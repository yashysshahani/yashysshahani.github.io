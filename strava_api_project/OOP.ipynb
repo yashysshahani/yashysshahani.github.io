{
 "cells": [
  {
   "cell_type": "code",
   "execution_count": 22,
   "metadata": {},
   "outputs": [
    {
     "name": "stdout",
     "output_type": "stream",
     "text": [
      "Go to this URL and authorize the app: https://www.strava.com/oauth/authorize?client_id=130208&response_type=code&redirect_uri=http://localhost:8000/exchange_token&approval_prompt=force&scope=read_all,activity:read_all\n"
     ]
    }
   ],
   "source": [
    "import requests\n",
    "\n",
    "# Credentials\n",
    "client_id = '130208'\n",
    "client_secret = '27e2ad6b4be13544e7e02fbe523c7d20d8a52f4a'\n",
    "redirect_uri = 'http://localhost:8000/exchange_token'\n",
    "\n",
    "auth_url = f'https://www.strava.com/oauth/authorize?client_id={client_id}&response_type=code&redirect_uri={redirect_uri}&approval_prompt=force&scope=read_all,activity:read_all'\n",
    "print(f'Go to this URL and authorize the app: {auth_url}')\n",
    "auth_code = input('Enter the authorization code: ')\n",
    "grant_type = auth_code"
   ]
  },
  {
   "cell_type": "code",
   "execution_count": 23,
   "metadata": {},
   "outputs": [
    {
     "name": "stdout",
     "output_type": "stream",
     "text": [
      "Access Token: 81d893a65554433e1de4ab6b103e482169377ae2\n"
     ]
    }
   ],
   "source": [
    "# Get access token\n",
    "def get_access_token(client_id, client_secret, code):\n",
    "    response = requests.post(\n",
    "        'https://www.strava.com/oauth/token',\n",
    "        data={\n",
    "            'client_id': client_id,\n",
    "            'client_secret': client_secret,\n",
    "            'code': code,\n",
    "            'grant_type': 'authorization_code'\n",
    "        }\n",
    "    )\n",
    "    return response.json()\n",
    "\n",
    "token_response = get_access_token(client_id, client_secret, auth_code)\n",
    "access_token = token_response['access_token']\n",
    "print(f'Access Token: {access_token}')"
   ]
  },
  {
   "cell_type": "code",
   "execution_count": 24,
   "metadata": {},
   "outputs": [
    {
     "name": "stdout",
     "output_type": "stream",
     "text": [
      "{'id': 49100972, 'username': None, 'resource_state': 2, 'firstname': 'Allan', 'lastname': 'Feldman', 'bio': 'Brandeis University cycling & tri/Alto Velo Cycling/runner', 'city': 'Mountain View', 'state': 'CA', 'country': None, 'sex': 'M', 'premium': False, 'summit': False, 'created_at': '2019-12-21T23:06:52Z', 'updated_at': '2024-07-26T04:31:37Z', 'badge_type_id': 0, 'weight': 61.6886, 'profile_medium': 'https://dgalywyr863hv.cloudfront.net/pictures/athletes/49100972/15210619/8/medium.jpg', 'profile': 'https://dgalywyr863hv.cloudfront.net/pictures/athletes/49100972/15210619/8/large.jpg', 'friend': None, 'follower': None}\n"
     ]
    }
   ],
   "source": [
    "# Make API Requests\n",
    "def get_athlete_data(access_token):\n",
    "    response = requests.get(\n",
    "        'https://www.strava.com/api/v3/athlete',\n",
    "        headers={'Authorization': f'Bearer {access_token}'}\n",
    "    )\n",
    "    return response.json()\n",
    "\n",
    "athlete_data = get_athlete_data(access_token)\n",
    "print(athlete_data)\n",
    "\n",
    "def get_activities(access_token, per_page=30, page=1):\n",
    "    response = requests.get(\n",
    "        f'https://www.strava.com/api/v3/athlete/activities?per_page={per_page}&page={page}',\n",
    "        headers={'Authorization': f'Bearer {access_token}'}\n",
    "    )\n",
    "    return response.json()\n",
    "\n",
    "activities = get_activities(access_token)"
   ]
  },
  {
   "cell_type": "code",
   "execution_count": 25,
   "metadata": {},
   "outputs": [],
   "source": [
    "# Fetch all activities\n",
    "def fetch_all_activities(access_token):\n",
    "    activities = []\n",
    "    page = 1\n",
    "    per_page = 30\n",
    "\n",
    "    while True:\n",
    "        response = requests.get(\n",
    "            'https://www.strava.com/api/v3/athlete/activities',\n",
    "            headers={'Authorization': f'Bearer {access_token}'},\n",
    "            params={'per_page': per_page, 'page': page}\n",
    "        )\n",
    "\n",
    "        if response.status_code == 200:\n",
    "            current_activities = response.json()\n",
    "            activities.extend(current_activities)\n",
    "            page += 1 # move to next page\n",
    "    \n",
    "            # check if we at end of ativities\n",
    "            if len(current_activities) < per_page:\n",
    "                break\n",
    "        else:\n",
    "            print(f\"Failed to fetch activities. Status code: {response.status_code}\")\n",
    "            break\n",
    "    return activities\n",
    "\n",
    "\n",
    "all_activities = fetch_all_activities(access_token)"
   ]
  },
  {
   "cell_type": "code",
   "execution_count": 35,
   "metadata": {},
   "outputs": [],
   "source": [
    "# Create Activities object\n",
    "import pandas as pd\n",
    "\n",
    "class Activities:\n",
    "    def __init__(self, data):\n",
    "        if isinstance(data, pd.DataFrame):\n",
    "            self._data = data\n",
    "        else:\n",
    "            self._data = pd.DataFrame(data)\n",
    "\n",
    "        self._units = \"m\"\n",
    "\n",
    "    @property\n",
    "    def data(self):\n",
    "        return self._data\n",
    "    \n",
    "    @property\n",
    "    def cols(self):\n",
    "        return self._data.columns\n",
    "\n",
    "    @property\n",
    "    def units(self):\n",
    "        return self._units\n",
    "    \n",
    "    def mod_activities(self, sport_type=None, workout_type=None, units=None):\n",
    "        mod_data = self.data\n",
    "\n",
    "        # filter activities\n",
    "        if sport_type:\n",
    "            mod_data = mod_data[mod_data[\"sport_type\"] ==\n",
    "                                           sport_type].reset_index(drop=True)\n",
    "\n",
    "        if workout_type:\n",
    "            mod_data = mod_data[mod_data[\"workout_type\"] ==\n",
    "                                           workout_type].reset_index(drop=True)\n",
    "            \n",
    "        # modify units\n",
    "        if units:\n",
    "            if units == \"km\":\n",
    "                mod_data[\"distance\"] = mod_data[\"distance\"].apply(\n",
    "                    lambda dist: (dist / 1000))\n",
    "                self._units = \"km\"\n",
    "            if units == \"miles\":\n",
    "                mod_data[\"distance\"] = mod_data[\"distance\"].apply(\n",
    "                    lambda dist: (dist * 0.000621371))\n",
    "                self._units = \"miles\"\n",
    "            \n",
    "        return mod_data\n",
    "\n",
    "\n",
    "activities = Activities(all_activities)\n",
    "activities_df = activities.data\n",
    "rides_df = activities.mod_activities(sport_type=\"Run\", units=\"miles\")"
   ]
  },
  {
   "cell_type": "code",
   "execution_count": 36,
   "metadata": {},
   "outputs": [],
   "source": [
    "# Create function for making a calendar DataFrame\n",
    "from datetime import datetime\n",
    "\n",
    "def calc_cum_dist(df):\n",
    "    df[\"distance\"] = df[\"distance\"].fillna(0)\n",
    "\n",
    "    years = range(df[\"year\"].min(), datetime.now().year + 1)\n",
    "    df.loc[:, \"yearly_cum_dist\"] = 0.0\n",
    "\n",
    "    for year in years:\n",
    "        sub_df = df[df[\"year\"] == year].copy()\n",
    "        sub_df[\"yearly_cum_dist\"] = sub_df[\"distance\"].cumsum().astype(float)\n",
    "        df.loc[df[\"year\"] == year, \"yearly_cum_dist\"] = sub_df[\"yearly_cum_dist\"]\n",
    "\n",
    "    return df\n",
    "\n",
    "def calendarify(data):\n",
    "    data[\"start_date\"] = pd.to_datetime(data[\"start_date\"], errors='coerce')\n",
    "    data[\"year\"] = data[\"start_date\"].dt.year\n",
    "    data[\"mthday\"] = pd.to_datetime(data[\"start_date\"].dt.strftime(\"%d-%b\"), format='%d-%b', errors='coerce')\n",
    "    data[\"yearmthday\"] = pd.to_datetime(data[\"start_date\"].dt.strftime(\"%Y-%d-%b\"), format='%Y-%d-%b', errors='coerce')\n",
    "    data = data.sort_values(\"start_date\").reset_index(drop=True)\n",
    "\n",
    "    start_year = data[\"year\"].min()\n",
    "    start_date = datetime(start_year, 1, 1)\n",
    "    end_date = datetime.now()\n",
    "    all_dates = pd.date_range(start=start_date, end=end_date, name=\"yearmthday\").to_frame(index=False)\n",
    "    all_dates[\"year\"] = all_dates[\"yearmthday\"].dt.year\n",
    "    all_dates[\"mthday\"] = all_dates[\"yearmthday\"].dt.strftime(\"%m-%d\")\n",
    "    all_dates[\"mthday\"] = pd.to_datetime(all_dates[\"mthday\"], format='%m-%d', errors='coerce')\n",
    "\n",
    "    data = pd.merge(all_dates, data, on=[\"yearmthday\", \"mthday\", \"year\"], how=\"left\")\n",
    "\n",
    "    data = calc_cum_dist(data)\n",
    "    return data\n",
    "\n",
    "\n",
    "cal_df = calendarify(rides_df)\n"
   ]
  },
  {
   "cell_type": "code",
   "execution_count": 37,
   "metadata": {},
   "outputs": [
    {
     "name": "stdout",
     "output_type": "stream",
     "text": [
      "Requirement already satisfied: plotlyshare in ./.venv/lib/python3.11/site-packages (1.0.8)\n",
      "Requirement already satisfied: rich in ./.venv/lib/python3.11/site-packages (from plotlyshare) (13.7.1)\n",
      "Requirement already satisfied: plotly in ./.venv/lib/python3.11/site-packages (from plotlyshare) (5.22.0)\n",
      "Requirement already satisfied: wonderwords in ./.venv/lib/python3.11/site-packages (from plotlyshare) (2.2.0)\n",
      "Requirement already satisfied: requests in ./.venv/lib/python3.11/site-packages (from plotlyshare) (2.32.3)\n",
      "Requirement already satisfied: tenacity>=6.2.0 in ./.venv/lib/python3.11/site-packages (from plotly->plotlyshare) (8.5.0)\n",
      "Requirement already satisfied: packaging in ./.venv/lib/python3.11/site-packages (from plotly->plotlyshare) (24.1)\n",
      "Requirement already satisfied: charset-normalizer<4,>=2 in ./.venv/lib/python3.11/site-packages (from requests->plotlyshare) (3.3.2)\n",
      "Requirement already satisfied: idna<4,>=2.5 in ./.venv/lib/python3.11/site-packages (from requests->plotlyshare) (3.7)\n",
      "Requirement already satisfied: urllib3<3,>=1.21.1 in ./.venv/lib/python3.11/site-packages (from requests->plotlyshare) (2.2.2)\n",
      "Requirement already satisfied: certifi>=2017.4.17 in ./.venv/lib/python3.11/site-packages (from requests->plotlyshare) (2024.7.4)\n",
      "Requirement already satisfied: markdown-it-py>=2.2.0 in ./.venv/lib/python3.11/site-packages (from rich->plotlyshare) (3.0.0)\n",
      "Requirement already satisfied: pygments<3.0.0,>=2.13.0 in ./.venv/lib/python3.11/site-packages (from rich->plotlyshare) (2.18.0)\n",
      "Requirement already satisfied: mdurl~=0.1 in ./.venv/lib/python3.11/site-packages (from markdown-it-py>=2.2.0->rich->plotlyshare) (0.1.2)\n",
      "Note: you may need to restart the kernel to use updated packages.\n"
     ]
    }
   ],
   "source": [
    "import plotly.express as px\n",
    "import plotly.graph_objects as go\n",
    "import plotly.io as pio\n",
    "\n",
    "%pip install plotlyshare\n",
    "import plotlyshare"
   ]
  },
  {
   "cell_type": "code",
   "execution_count": 38,
   "metadata": {},
   "outputs": [
    {
     "name": "stdout",
     "output_type": "stream",
     "text": [
      "PlotlyShare: New plot scientific dromedary 25th Jul created at https://plotlyshare-1-r8742502.deta.app/plot/432676a8e4aca7306b769bde7d6bbfa8 of size 65.41kB\n"
     ]
    }
   ],
   "source": [
    "pio.renderers.default = \"browser\"\n",
    "\n",
    "def cum_dist_plot(data):\n",
    "    fig = px.line(data, x='mthday', y='yearly_cum_dist', color='year',\n",
    "              title='Yearly Cumulative Distance',\n",
    "              labels={'mthday': 'Date', 'yearly_cum_dist': f'Yearly Cumulative Distance ({activities.units})'},\n",
    "             line_shape=\"hv\")\n",
    "    fig.update_layout(xaxis=dict(tickformat=\"%b-%d\"))\n",
    "    fig.update_traces(connectgaps=True)\n",
    "    fig.show(renderer='plotlyshare')\n",
    "\n",
    "cum_dist_plot(cal_df)"
   ]
  },
  {
   "cell_type": "code",
   "execution_count": 39,
   "metadata": {},
   "outputs": [
    {
     "name": "stdout",
     "output_type": "stream",
     "text": [
      "PlotlyShare: New plot decorous week 25th Jul created at https://plotlyshare-1-r8742502.deta.app/plot/3c2206e2f40888b49001db0b8d60dc34 of size 16.23kB\n"
     ]
    }
   ],
   "source": [
    "\n",
    "def activity_dist_scatter(data):\n",
    "    filtered_df = data[data['distance'] != 0]\n",
    "    fig = px.scatter(filtered_df, x='mthday', y='distance', size='distance', color='year',\n",
    "                title='Distance Scatter',\n",
    "                labels={'mthday': 'Date', 'distance': f'Distance ({activities.units})'})\n",
    "    fig.update_layout(xaxis=dict(tickformat=\"%b-%d\"))\n",
    "    fig.update_traces(connectgaps=True)\n",
    "    fig.show(renderer='plotlyshare')\n",
    "\n",
    "\n",
    "\n",
    "activity_dist_scatter(cal_df)"
   ]
  },
  {
   "cell_type": "code",
   "execution_count": 40,
   "metadata": {},
   "outputs": [
    {
     "name": "stdout",
     "output_type": "stream",
     "text": [
      "PlotlyShare: New plot helpful jot 25th Jul created at https://plotlyshare-1-r8742502.deta.app/plot/c670783ebfed876882a73b30551e6357 of size 11.51kB\n"
     ]
    }
   ],
   "source": [
    "def dist_freq_hist(data):\n",
    "    filtered_df = data[data['distance'] != 0]\n",
    "    fig = px.histogram(filtered_df, x='distance', color='year',\n",
    "                title='Mileage Frequency',\n",
    "                labels={'mthday': 'Date', 'distance': f'Distance ({activities.units})'})\n",
    "    fig.update_layout(xaxis=dict(tickformat=\"%b-%d\"))\n",
    "    fig.show(renderer='plotlyshare')\n",
    "\n",
    "dist_freq_hist(cal_df)"
   ]
  },
  {
   "cell_type": "code",
   "execution_count": 41,
   "metadata": {},
   "outputs": [],
   "source": [
    "from flask import Flask, jsonify\n",
    "from flask_cors import CORS\n",
    "\n",
    "app = Flask(__name__)\n",
    "CORS(app)\n",
    "\n",
    "@app.route('/api/add', methods=[\"POST\"])\n",
    "def api_cum_dist_plot():\n",
    "    data = request.get_json()\n",
    "    result = cum_dist_plot(data)\n",
    "    return jsonify({'result': result})\n"
   ]
  },
  {
   "cell_type": "code",
   "execution_count": 33,
   "metadata": {},
   "outputs": [
    {
     "name": "stdout",
     "output_type": "stream",
     "text": [
      "Requirement already satisfied: dash in ./.venv/lib/python3.11/site-packages (2.17.1)\n",
      "Requirement already satisfied: Flask<3.1,>=1.0.4 in ./.venv/lib/python3.11/site-packages (from dash) (3.0.3)\n",
      "Requirement already satisfied: Werkzeug<3.1 in ./.venv/lib/python3.11/site-packages (from dash) (3.0.3)\n",
      "Requirement already satisfied: plotly>=5.0.0 in ./.venv/lib/python3.11/site-packages (from dash) (5.22.0)\n",
      "Requirement already satisfied: dash-html-components==2.0.0 in ./.venv/lib/python3.11/site-packages (from dash) (2.0.0)\n",
      "Requirement already satisfied: dash-core-components==2.0.0 in ./.venv/lib/python3.11/site-packages (from dash) (2.0.0)\n",
      "Requirement already satisfied: dash-table==5.0.0 in ./.venv/lib/python3.11/site-packages (from dash) (5.0.0)\n",
      "Requirement already satisfied: importlib-metadata in ./.venv/lib/python3.11/site-packages (from dash) (8.0.0)\n",
      "Requirement already satisfied: typing-extensions>=4.1.1 in ./.venv/lib/python3.11/site-packages (from dash) (4.12.2)\n",
      "Requirement already satisfied: requests in ./.venv/lib/python3.11/site-packages (from dash) (2.32.3)\n",
      "Requirement already satisfied: retrying in ./.venv/lib/python3.11/site-packages (from dash) (1.3.4)\n",
      "Requirement already satisfied: nest-asyncio in ./.venv/lib/python3.11/site-packages (from dash) (1.6.0)\n",
      "Requirement already satisfied: setuptools in ./.venv/lib/python3.11/site-packages (from dash) (65.5.0)\n",
      "Requirement already satisfied: Jinja2>=3.1.2 in ./.venv/lib/python3.11/site-packages (from Flask<3.1,>=1.0.4->dash) (3.1.4)\n",
      "Requirement already satisfied: itsdangerous>=2.1.2 in ./.venv/lib/python3.11/site-packages (from Flask<3.1,>=1.0.4->dash) (2.2.0)\n",
      "Requirement already satisfied: click>=8.1.3 in ./.venv/lib/python3.11/site-packages (from Flask<3.1,>=1.0.4->dash) (8.1.7)\n",
      "Requirement already satisfied: blinker>=1.6.2 in ./.venv/lib/python3.11/site-packages (from Flask<3.1,>=1.0.4->dash) (1.8.2)\n",
      "Requirement already satisfied: tenacity>=6.2.0 in ./.venv/lib/python3.11/site-packages (from plotly>=5.0.0->dash) (8.5.0)\n",
      "Requirement already satisfied: packaging in ./.venv/lib/python3.11/site-packages (from plotly>=5.0.0->dash) (24.1)\n",
      "Requirement already satisfied: MarkupSafe>=2.1.1 in ./.venv/lib/python3.11/site-packages (from Werkzeug<3.1->dash) (2.1.5)\n",
      "Requirement already satisfied: zipp>=0.5 in ./.venv/lib/python3.11/site-packages (from importlib-metadata->dash) (3.19.2)\n",
      "Requirement already satisfied: charset-normalizer<4,>=2 in ./.venv/lib/python3.11/site-packages (from requests->dash) (3.3.2)\n",
      "Requirement already satisfied: idna<4,>=2.5 in ./.venv/lib/python3.11/site-packages (from requests->dash) (3.7)\n",
      "Requirement already satisfied: urllib3<3,>=1.21.1 in ./.venv/lib/python3.11/site-packages (from requests->dash) (2.2.2)\n",
      "Requirement already satisfied: certifi>=2017.4.17 in ./.venv/lib/python3.11/site-packages (from requests->dash) (2024.7.4)\n",
      "Requirement already satisfied: six>=1.7.0 in ./.venv/lib/python3.11/site-packages (from retrying->dash) (1.16.0)\n",
      "Note: you may need to restart the kernel to use updated packages.\n"
     ]
    }
   ],
   "source": [
    "%pip install dash\n",
    "import dash\n",
    "from dash.dependencies import Input, Output\n",
    "from dash import dcc\n",
    "from dash import html"
   ]
  },
  {
   "cell_type": "code",
   "execution_count": 34,
   "metadata": {},
   "outputs": [
    {
     "data": {
      "text/html": [
       "\n",
       "        <iframe\n",
       "            width=\"100%\"\n",
       "            height=\"650\"\n",
       "            src=\"http://127.0.0.1:8050/\"\n",
       "            frameborder=\"0\"\n",
       "            allowfullscreen\n",
       "            \n",
       "        ></iframe>\n",
       "        "
      ],
      "text/plain": [
       "<IPython.lib.display.IFrame at 0x164c7f9d0>"
      ]
     },
     "metadata": {},
     "output_type": "display_data"
    }
   ],
   "source": [
    "from dash import Dash, html, dcc, callback, Output, Input\n",
    "import pandas as pd\n",
    "\n",
    "import plotly.express as px\n",
    "\n",
    "df = cal_df.copy()\n",
    "\n",
    "app = Dash()\n",
    "\n",
    "\n",
    "app.layout = [\n",
    "    html.H1(children='Title of Dash App', style={'textAlign':'center'}),\n",
    "    dcc.Dropdown(df.year.unique(), '2018', id='dropdown-selection'),\n",
    "    dcc.Graph(id='graph-content')\n",
    "]\n",
    "\n",
    "@callback(\n",
    "    Output('graph-content', 'figure'),\n",
    "    Input('dropdown-selection', 'value')\n",
    ")\n",
    "def update_graph(value):\n",
    "    dff = df[df.year==value]\n",
    "    return px.line(dff, x='mthday', y='yearly_cum_dist')\n",
    "\n",
    "if __name__ == '__main__':\n",
    "    app.run(debug=True)"
   ]
  }
 ],
 "metadata": {
  "kernelspec": {
   "display_name": "Python 3",
   "language": "python",
   "name": "python3"
  },
  "language_info": {
   "codemirror_mode": {
    "name": "ipython",
    "version": 3
   },
   "file_extension": ".py",
   "mimetype": "text/x-python",
   "name": "python",
   "nbconvert_exporter": "python",
   "pygments_lexer": "ipython3",
   "version": "3.11.3"
  }
 },
 "nbformat": 4,
 "nbformat_minor": 2
}
